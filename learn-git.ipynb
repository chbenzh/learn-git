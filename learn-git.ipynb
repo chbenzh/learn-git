廖雪峰Git教程，https://www.liaoxuefeng.com/wiki/896043488029600
#git虽然极其强大，命令繁多，但常用的就那么十来个，掌握好这十几个常用命令，你已经可以得心应手地使用git了
#版本控制系统只能跟踪文本文件（比如txt文件、网页、程序代码等）的修改（第几行加了什么，第几行删了什么），不能跟踪二进制文件（word、图片、视频）的修改，所以使用版本控制系统要以纯文本方式编写文件（标准的UTF-8编码），不要使用Windows自带的记事本编辑任何文本文件（其开发团队在每个文件开头添加了0xefbbbf十六进制字符）、建议使用Notepad++编辑文本文件（将默认编码设为UFT-8 without BOM）
$ cd /Users/chbenzh #python注释符号，打开文件夹
$ mkdir learngit #新建文件夹
$ cd learngit
$ pwd #显示当前目录
$ git init #把当前目录变成git可以管理的本地repository（仓库），本地repository（仓库）包括本地工作区、本地版本库，本地版本库包括Stage（暂存区）、master（默认主分支）、branch（新建分支）、HEAD（指针）
$ ls #显示当前目录中文件，隐藏文件除外
$ ls -ah #显示当前目录中文件，包括隐藏文件
$ git add file1 #把本地工作区已有文件修改添加到本地版本库-暂存区，Unix的哲学是“没有消息就是好消息”
$ git add file2 file3 #可以单行把本地工作区多个已有文件修改添加到本地版本库-暂存区，也可以分行把本地工作区多个已有文件修改添加到本地版本库-暂存区
$ git commit -m “description of the modification” #把本地版本库-暂存区的所有内容提交到本地版本库-当前分支
$ git commit -m '
> description1 of the modification
> description2 of the modification
> '
$ git commit
#input ‘i', input the description of the modification, click ‘esc’, input ‘:wq’, click ‘enter’.
$ git status #显示仓库当前状况
$ git diff #查看修改内容
$ git diff HEAD -- readme.txt #查看版本库-当前分支与工作区的区别
$ cat readme.txt #查看文件内容
$ git checkout -- file #丢弃工作区已有文件修改，工作区已有文件最近修改还未添加到版本库-暂存区，若版本库-暂存区无版本则回到版本库-当前分支的版本，若版本库-暂存区有版本则回到版本库-暂存区的版本
$ git checkout branch #切换到版本库-新建branch分支
$ git checkout master #切换到版本库-默认master分支
$ git reset HEAD file #把版本库-暂存区的版本撤回、回到工作区已有文件最近修改，针对工作区已有文件最近修改已经添加到版本库-暂存区
$ git checkout -- file #丢弃工作区已有文件修改
$ git log #显示从最近到最远的提交日志，输入q退出git log
$ git log --pretty=oneline #单行显示提交日志
$ git reset --hard commit_id #回到commit_id（版本号）版本，版本号没必要写全、前几位就可以了、git会自动寻找
$ git reset --hard HEAD^ #HEAD表示当前版本，HEAD^表示往上1个版本，HEAD^^表示往上2个版本，HEAD~3表示往上3个版本
$ git reflog #查看命令历史，以便确定要回到未来的哪个版本
#若本地工作区已有文件最近修改添加到本地版本库-暂存区、提交到本地版本库-当前分支、推送到远程版本库，则不可撤回。
$ rm file #删除文件
$ git status
$ git checkout -- file #恢复删除文件
$ git rm file #从版本库中删除文件并且git commit
$ git commit -m “remove file”
#将本地版本库与远程版本库通过SSH Key关联（速度>HTTPS）：
$ ssh-keygen -t rsa -C “chbenzh@126.com”
将密钥保存在/Users/chbenzh/.ssh/id_rsa，无需设置密码（非军事用途）
$ cd ~/.ssh #打开.ssh目录
$ ls
$ cat id_rsa.pub #查看公钥内容
github, Settings, SSH and GPG keys, New SSH key
github, New Reporitory, Repository name—learngit, Create repository
$ git remote add origin git@github.com:chbenzh/learngit.git #把本地版本库-当前分支与远程版本库-当前分支关联
#git给远程库起的默认名称是origin，若有多个远程库则需要用不同的名称标识不同的远程库
$ git remote rm origin #先删除本地版本库已经关联的名为origin的远程版本库
$ git remote add gitHub git@github.com:chbenzh/learngit.git #先关联github的远程库，名为github、而非origin
$ git remote add gitee git@gitee.com:chbenzh/learngit.git #再关联码云的远程库，名为gitee、而非origin
#如此本地版本库便关联了2个远程远程库
$ git push -u origin master #把本地版本库-master的版本推送到远程版本库-当前分支，-u不但把本地版本库-master版本推送到远程版本库-master、还会把本地版本库-master与远程版本库-master关联
github’s SSH key fingerprints: https://help.github.com/en/articles/githubs-ssh-key-fingerprints
#将本地版本库与远程版本库通过HTTPS关联：
github, New Reporitory, Repository name--learngit, Create repository
$ cd /Users/chbenzh/learngit
$ git remote add origin https://github.com/chbenzh/learngit.git #把本地版本库-当前分支与远程版本库-当前分支关联
$ git push -u origin master #把本地版本库-master的版本推送到远程版本库-当前分支，-u不但把本地版本库-master版本推送到远程版本库-master、还会把本地版本库-master与远程版本库-master关联
$ git push -u gitHub master
$ git push -u gitee master
username for ‘https://github.com': chbenzh
[Password for ‘https://chbenzh@github.com':
$ git remote -v #查看远程版本库路径，显示可以抓取和推送的origin的地址，若没有推送权限则看不到push的地址
$ git remote add upstream https://github.com/selfteaching/the-craft-of-selfteaching.git #设置上游代码库，自己远程版本库fork他人远程版本库
$ git fetch upstream #取来他人远程版本库的更新
$ git checkout master
$ git merge upstream/master #将他人远程版本库的更新合并到本地版本库master（默认分支）
$ git push origin master #把本地版本库master分支推送到远程版本库对应分支
$ git push origin dev #把本地版本库dev分支推送到远程版本库对应分支
#从远程版本库clone到本地版本库：
gitHub, New Reporitory, Repository name--gitskills, Initialize this repository with a README, Create repository, Branch: master, Find or create a branch--dev
$ git clone git@github.com:chbenzh/gitskills.git #默认只能看到本地的master分支
$ git clone https://github.com/chbenzh/gitskills.git #默认只能看到本地的master分支
$ git checkout -b dev origin/dev #创建本地版本库dev分支、把本地版本库dev分支与远程版本库dev分支关联
$ git checkout -b dev #创建本地版本库dev分支
$ git branch --set-upstream-to=origin/dev dev #把本地版本库dev分支与远程版本库dev分支关联
$ git pull #把更新的远程版本库对应分支拉取到本地版本库当前分支试图合并，若合并冲突则解决冲突并在本地提交
#创建与合并分支
$ git checkout -b dev #新建dev分支，然后切换到dev分支
$ git branch dev #新建dev分支
$ git checkout dev #切换到dev分支
$ git branch #查看当前分支
#对readme.txt做修改
$ git add readme.txt
$ git commit -m “branch test"
$ git checkout master
#对readme.txt的修改不见了
$ git merge dev #合并dev分支到当前master分支
#对readme.txt的修改出现了
#Fast forward快进模式，即直接把master分支指向dev分支的当前提交，合并后看不出来曾经做过合并，删除分支后会丢掉分支信息
$ git branch -d dev #删除dev分支
#因为创建、合并和删除分支非常快，所以Git鼓励你使用分支完成某个任务，合并后再删掉分支，直接在master分支上工作效果是一样的，但过程更安全
#解决冲突
$ git checkout -b feature1
#对readme.txt做修改1
$ git add readme.txt
$ git commit -m “modify1”
$ git checkout master
#对readme.txt做修改2
$ git add readme.txt
$ git commit -m “modify2”
$ git merge feature1
# CONFLICT (content): Merge conflict in readme.txt
# Automatic merge failed; fix conflicts and then commit the result.
$ git status
#打开readme.txt查看冲突，修改后保存
$ git add readme.txt
$ git commit -m “conflict fixed”
$ git log -- graph -- pretty=oneline --abbrev-commit #git log --graph可以看到分支合并图
$ git branch -d feature1
#分支管理策略
$ git checkout -b dev
#对readme.txt做修改
$ git add readme.txt
$ git commit -m “add merge”
$ git checkout master
$ git merge --no-ff -m “merge with no-ff” dev
$ git log --graph --pretty=oneline --abbrev-commit
#--no-ff，强制禁止Fast forward快进模式、采用recursive strategy递归策略，合并时生成一个新的commit，分支历史中有分支信息，能看出来曾经做过合并
#master分支仅用来发布新版本、平时不能在上面干活，平时都在dev分支上干活，每个人都有自己的分支，时不时地往dev分支上合并就可以了
#Bug分支
#修复bug时，通过创建新的bug分支进行修复，然后合并，最后删除bug分支；
#当前dev分支工作进行一半、还没办法提交，先把工作现场git stash隐藏，然后去修复bug，修复bug后再git stash pop恢复工作现场、删除stash内容。
$ git status
$ git stash #隐藏当前dev分支工作现场，可以多次stash
$ git status
#首先明确在哪个分支上修复bug，假设需要在master分支上修复，就从master分支创建临时分支
$ git checkout master
$ git checkout -b issue-101
#对readme.txt做修复
$ git add readme.txt
$ git commit -m “fix bug 101”
$ git checkout master
$ git merge --no-ff -m “merged bug fix 101” issue-101
$ git branch -d issue-101
$ git checkout dev
$ git stash list #查看工作现场
$ git stash apply #恢复工作现场
$ git stash apply stash@{0} #多次stash、恢复指定的stash
$ git stash drop #删除stash内容
$ git stash pop #恢复工作现场、删除stash内容
#开发一个新的feature，最好新建一个分支
$ git branch -D feature #强行删除还没有被合并的分支
$ git rebase #把本地未push的分叉提交历史整理成直线（通过挪动本地提交位置），使得查看提交历史更容易
$ git tag v1.0 #在当前分支打一个新标签v1.0，默认标签打在当前分支最新提交的commit上
$ git log --pretty=oneline --abbrev-commit #查看历史提交的commit id
$ git tag v0.9 <commit id> #在当前分支对应commit id上打标签
$ git tag -a v0.9 -m “version 0.9 released” <commit id> #创建带有说明的标签，用-a指定标签名，-m指定说明文字
$ git tag #查看当前分支所有标签，标签不是按照时间排序、而是按照字母排序
$ git show v0.9 #查看对应标签v0.9信息
$ git tag -d v0.1 #删除标签v0.1
$ git push origin v1.0 #推送标签v1.0到远程
$ git push origin --tags #一次性推送全部未推送的本地标签到远程
#若标签已经推送到远程，若要删除，先从本地删除、再从远程删除
$ git tag -d v0.9 #先从本地删除
$ git push origin :refs/tags/v0.9 #再从远程删除
#国内的Git托管服务——码云（gitee.com）
$ git config --global color.ui true #让git显示颜色，让命令输出更醒目
#忽略特殊文件，在git工作区的根目录下创建.gitignore文件，把要忽略的文件名填进去，git就会自动忽略这些文件
#不需要从头写.gitignore文件，gitHub已经为我们准备了各种配置文件，只需要组合一下就可以使用了，https://github.com/github/gitignore
#忽略文件的原则
#忽略操作系统自动生成的文件，比如缩略图等
#忽略编译生成的中间文件、可执行文件等，也就是如果一个文件是通过另一个文件自动生成的，那自动生成的文件就没必要放进版本库，比如Java编译产生的.class文件
#忽略你自己的带有敏感信息的配置文件，比如存放口令的配置文件
$ touch .gitignore #创建.gitignore
$ vim .gitignore #vim编辑.gitignore
#input ‘i', input the description of the modification, click ‘esc’, input ‘:wq’, click ‘enter’.
$ git add .gitignore
$ git commit -m “add .gitignore”
#有时你想添加一个文件到git但发现添加不了，是因为这个文件被.gitignore忽略了，如果你确实想添加该文件可以用-f强制添加到Git
$ git add -f App.class #强制添加文件
$ git check-ignore -v App.class #检查.gitignore中哪条忽略规则有问题
#配置别名
#配置git的时候，加上--global是针对当前用户起作用的，如果不加，那只针对当前的仓库起作用
$ git config --global alias.st status #用st表示status
#每个用户的git配置文件为用户目录下的.gitconfig，每个仓库的git配置文件为仓库目录下的.git/config
$ cat .git/config #查看配置文件内容